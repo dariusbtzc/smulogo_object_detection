{
  "nbformat": 4,
  "nbformat_minor": 0,
  "metadata": {
    "colab": {
      "provenance": []
    },
    "kernelspec": {
      "name": "python3",
      "display_name": "Python 3"
    },
    "language_info": {
      "name": "python"
    }
  },
  "cells": [
    {
      "cell_type": "markdown",
      "source": [
        "# Load libraries"
      ],
      "metadata": {
        "id": "2A6ltPOkrEhf"
      }
    },
    {
      "cell_type": "code",
      "source": [
        "pip install pyheif"
      ],
      "metadata": {
        "id": "abTmaohWmQRY",
        "colab": {
          "base_uri": "https://localhost:8080/"
        },
        "outputId": "ad81ba20-a439-4fe3-e1a6-d2c54c135650"
      },
      "execution_count": null,
      "outputs": [
        {
          "output_type": "stream",
          "name": "stdout",
          "text": [
            "Collecting pyheif\n",
            "  Downloading pyheif-0.7.1-cp310-cp310-manylinux_2_17_x86_64.manylinux2014_x86_64.whl (9.8 MB)\n",
            "\u001b[2K     \u001b[90m━━━━━━━━━━━━━━━━━━━━━━━━━━━━━━━━━━━━━━━━\u001b[0m \u001b[32m9.8/9.8 MB\u001b[0m \u001b[31m3.0 MB/s\u001b[0m eta \u001b[36m0:00:00\u001b[0m\n",
            "\u001b[?25hRequirement already satisfied: cffi>=1.0.0 in /usr/local/lib/python3.10/dist-packages (from pyheif) (1.16.0)\n",
            "Requirement already satisfied: pycparser in /usr/local/lib/python3.10/dist-packages (from cffi>=1.0.0->pyheif) (2.21)\n",
            "Installing collected packages: pyheif\n",
            "Successfully installed pyheif-0.7.1\n"
          ]
        }
      ]
    },
    {
      "cell_type": "code",
      "execution_count": null,
      "metadata": {
        "colab": {
          "base_uri": "https://localhost:8080/"
        },
        "id": "6hB5ReSreXd-",
        "outputId": "2c3959d5-07db-4f3b-b4ce-9e6850767b82"
      },
      "outputs": [
        {
          "output_type": "stream",
          "name": "stdout",
          "text": [
            "Mounted at /content/drive\n"
          ]
        }
      ],
      "source": [
        "import os\n",
        "import cv2\n",
        "import imgaug.augmenters as iaa\n",
        "import numpy as np\n",
        "from PIL import Image\n",
        "import pyheif\n",
        "\n",
        "from google.colab import drive\n",
        "drive.mount('/content/drive')"
      ]
    },
    {
      "cell_type": "code",
      "source": [
        "input_dir = \"/content/drive/My Drive/SMU MITB/5th Term/CS604: Deep Learning for Visual Recognition/Group Project/Prof Samples\"\n",
        "resize_dir = \"/content/drive/My Drive/SMU MITB/5th Term/CS604: Deep Learning for Visual Recognition/Group Project/Prof Samples/1. Resized\"\n",
        "aug_dir = \"/content/drive/My Drive/SMU MITB/5th Term/CS604: Deep Learning for Visual Recognition/Group Project/Prof Samples/2. Augmented\""
      ],
      "metadata": {
        "id": "bBKWB7LsuLn-"
      },
      "execution_count": null,
      "outputs": []
    },
    {
      "cell_type": "markdown",
      "source": [
        "# Helper functions"
      ],
      "metadata": {
        "id": "3X-8O--8CkXX"
      }
    },
    {
      "cell_type": "code",
      "source": [
        "def read_jpg(file_path):\n",
        "    image = cv2.imread(file_path)\n",
        "    return image"
      ],
      "metadata": {
        "id": "_Jb_jeZuFaY5"
      },
      "execution_count": null,
      "outputs": []
    },
    {
      "cell_type": "code",
      "source": [
        "def read_heic(file_path):\n",
        "\n",
        "    # Read the HEIC file\n",
        "    heif_file = pyheif.read(file_path)\n",
        "\n",
        "    # Convert HEIC to PIL Image\n",
        "    image = Image.frombytes(heif_file.mode, heif_file.size, heif_file.data, \"raw\", heif_file.mode, heif_file.stride)\n",
        "\n",
        "    # Convert PIL Image to OpenCV format\n",
        "    image = cv2.cvtColor(np.array(image), cv2.COLOR_RGB2BGR)\n",
        "\n",
        "    return image"
      ],
      "metadata": {
        "id": "YDKB7X3Suq7N"
      },
      "execution_count": null,
      "outputs": []
    },
    {
      "cell_type": "code",
      "source": [
        "def read_webp(file_path):\n",
        "\n",
        "    # Use Pillow to open the WEBP file\n",
        "    image_pil = Image.open(file_path).convert('RGB')\n",
        "\n",
        "    # Convert the PIL Image to a NumPy array\n",
        "    image_np = np.array(image_pil)\n",
        "\n",
        "    # Convert RGB to BGR format for OpenCV\n",
        "    image_cv = cv2.cvtColor(image_np, cv2.COLOR_RGB2BGR)\n",
        "\n",
        "    return image_cv"
      ],
      "metadata": {
        "id": "El0ekWQbDmcB"
      },
      "execution_count": null,
      "outputs": []
    },
    {
      "cell_type": "markdown",
      "source": [
        "# Downsize images"
      ],
      "metadata": {
        "id": "R_MssTkSrSk9"
      }
    },
    {
      "cell_type": "code",
      "source": [
        "def resize_image(image, target_size = None, resize_factor = None):\n",
        "    if target_size is not None:\n",
        "        resized_image = cv2.resize(image, target_size, interpolation = cv2.INTER_AREA)\n",
        "    elif resize_factor is not None:\n",
        "        new_width = int(image.shape[1] * resize_factor)\n",
        "        new_height = int(image.shape[0] * resize_factor)\n",
        "        resized_image = cv2.resize(image, (new_width, new_height), interpolation = cv2.INTER_AREA)\n",
        "    else:\n",
        "        resized_image = image\n",
        "    return resized_image"
      ],
      "metadata": {
        "id": "B-7GT5f7rX58"
      },
      "execution_count": null,
      "outputs": []
    },
    {
      "cell_type": "code",
      "source": [
        "target_size = (640, 640)\n",
        "\n",
        "for img_file in os.listdir(input_dir):\n",
        "    img_path = os.path.join(input_dir, img_file)\n",
        "    if os.path.isfile(img_path):\n",
        "\n",
        "        # Determine the file extension and select the appropriate function\n",
        "        if img_file.lower().endswith('.jpg') or img_file.lower().endswith('.jpeg'):\n",
        "            image = read_jpg(img_path)\n",
        "        elif img_file.lower().endswith('.heic'):\n",
        "            image = read_heic(img_path)\n",
        "        elif img_file.lower().endswith('.webp'):\n",
        "            image = read_webp(img_path)\n",
        "        else:\n",
        "            continue\n",
        "\n",
        "        image_resized = resize_image(image, target_size = target_size)\n",
        "\n",
        "        # Save the resized image\n",
        "        resized_filename = \"{}_resized.jpg\".format(os.path.splitext(img_file)[0])\n",
        "        resized_file_path = os.path.join(resize_dir, resized_filename)\n",
        "        cv2.imwrite(resized_file_path, image_resized)"
      ],
      "metadata": {
        "id": "PXQmbYTyvY4R"
      },
      "execution_count": null,
      "outputs": []
    },
    {
      "cell_type": "markdown",
      "source": [
        "# Data Augmentation"
      ],
      "metadata": {
        "id": "OfybR5gJrJOl"
      }
    },
    {
      "cell_type": "code",
      "source": [
        "# Augmentation sequence\n",
        "seq = iaa.Sequential([\n",
        "    iaa.Fliplr(0.5),                                              # Horizontal flips\n",
        "    iaa.Crop(percent = (0, 0.1)),                                 # Random crops\n",
        "    iaa.Sometimes(0.5, iaa.GaussianBlur(sigma = (0, 0.5))),       # Blur 50% of all images with random sigma between 0 and 0.5\n",
        "    iaa.LinearContrast((0.75, 1.5)),                              # Strengthen / Weaken the contrast in each image\n",
        "    iaa.Affine(rotate = (-25, 25)),                               # Rotate between -25 and +25 degrees\n",
        "    iaa.Affine(                                                   # Apply affine transformations: scale and translate\n",
        "        scale = {\"x\": (0.8, 1.2), \"y\": (0.8, 1.2)},\n",
        "        translate_percent = {\"x\": (-0.2, 0.2), \"y\": (-0.2, 0.2)}\n",
        "    )\n",
        "], random_order = True)                                           # Apply augmenters in random order"
      ],
      "metadata": {
        "id": "pBo3cIVnm7GL"
      },
      "execution_count": null,
      "outputs": []
    },
    {
      "cell_type": "code",
      "source": [
        "# Number of augmented versions per original image\n",
        "num_augmented_versions = 11\n",
        "\n",
        "for img_file in os.listdir(resize_dir):\n",
        "    img_path = os.path.join(resize_dir, img_file)\n",
        "    if os.path.isfile(img_path) and img_file.endswith('_resized.jpg'):\n",
        "        image = cv2.imread(img_path)\n",
        "\n",
        "        for i in range(num_augmented_versions):\n",
        "            image_aug = seq(image = image)\n",
        "\n",
        "            # Save the augmented image\n",
        "            output_filename = \"{}_aug_{}.jpg\".format(os.path.splitext(img_file)[0], i+1)\n",
        "            output_path = os.path.join(aug_dir, output_filename)\n",
        "            cv2.imwrite(output_path, image_aug)"
      ],
      "metadata": {
        "id": "r0EF_g5MoK5f"
      },
      "execution_count": null,
      "outputs": []
    }
  ]
}